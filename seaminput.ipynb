{
  "nbformat": 4,
  "nbformat_minor": 0,
  "metadata": {
    "colab": {
      "provenance": []
    },
    "kernelspec": {
      "name": "python3",
      "display_name": "Python 3"
    },
    "language_info": {
      "name": "python"
    }
  },
  "cells": [
    {
      "cell_type": "code",
      "execution_count": null,
      "metadata": {
        "id": "DfKTUTFzRCNd"
      },
      "outputs": [],
      "source": [
        "import numpy as np\n",
        "import matplotlib.pyplot as plt\n",
        "from PIL import Image\n",
        "import cv2\n",
        "from skimage import filters\n",
        "import pandas as pd\n",
        "\n",
        "\n"
      ]
    },
    {
      "cell_type": "code",
      "source": [
        "import os\n",
        "\n",
        "folder_path = '/content/drive/MyDrive/TestingCarves'\n",
        "\n",
        "# List all files and subdirectories in the folder\n",
        "contents = os.listdir(folder_path)\n",
        "\n",
        "# Print the list of contents\n",
        "print(contents[0])\n"
      ],
      "metadata": {
        "id": "8Oh2BbrSrtcw",
        "collapsed": true
      },
      "execution_count": null,
      "outputs": []
    },
    {
      "cell_type": "code",
      "source": [
        "elements=[]\n",
        "listofarrays=[]\n",
        "widths=int(input(\"width please: \"))\n",
        "heights=int(input(\"height please: \"))\n",
        "elementamount=int(input(\"amount of elements: \"))\n",
        "for i in range(elementamount):\n",
        "  elements.append(input(\"enter the label: \"))\n",
        "elements=np.array(elements)\n",
        "print(elements)\n",
        "\n",
        "\n"
      ],
      "metadata": {
        "id": "JB_N-k_ts3LJ"
      },
      "execution_count": null,
      "outputs": []
    },
    {
      "cell_type": "code",
      "source": [
        "for d in range(3):\n",
        "  test = np.array(Image.open('/content/drive/MyDrive/TestingCarves/'+contents[d]))\n",
        "  test2=test.copy()\n",
        "  print(test.shape)\n",
        "  check=0\n",
        "  realwidth,realheight,_=test.shape\n",
        "  scalew=widths/realwidth\n",
        "  scaleh=heights/realheight\n",
        "#print(scalew)\n",
        "#print(scaleh)\n",
        "  if (scalew<scaleh):\n",
        "    realscale=scaleh\n",
        "  else:\n",
        "    check=1\n",
        "    realscale=scalew\n",
        "  realwidth=round(realwidth*realscale)\n",
        "  realheight=round(realheight*realscale)\n",
        "  test2=cv2.resize(test2,(realheight,realwidth))\n",
        "  if (check==1):\n",
        "    amountchange=realheight-heights\n",
        "  else:\n",
        "    test2=cv2.rotate(test2, cv2.ROTATE_90_CLOCKWISE)\n",
        "    amountchange=realwidth-widths\n",
        "  for i in range(amountchange):\n",
        "    test2=seeminglycarvable(test2)\n",
        "  if (check==0):\n",
        "    test2=cv2.rotate(test2, cv2.ROTATE_90_COUNTERCLOCKWISE)\n",
        "  listofarrays.append(test2)\n",
        "  print(test2.shape)\n",
        "  plt.imshow(test2)\n",
        "  plt.show()\n",
        "  plt.imshow(test)\n",
        "  plt.show()"
      ],
      "metadata": {
        "id": "q7qXh_H_SKzK",
        "collapsed": true
      },
      "execution_count": null,
      "outputs": []
    },
    {
      "cell_type": "code",
      "source": [
        "def seeminglycarvable(test2):\n",
        "  gray = cv2.cvtColor(test2, cv2.COLOR_BGR2GRAY)\n",
        "  imag = filters.sobel(gray.astype(\"float\"))\n",
        "  #plt.imshow(imag, cmap='gray')\n",
        "  #plt.show()\n",
        "  energy_map = imag\n",
        "  row, column = energy_map.shape\n",
        "\n",
        "  cumulative_energy = np.zeros_like(energy_map)\n",
        "  cumulative_energy[0, :] = energy_map[0, :]\n",
        "  for r in range(1, row):\n",
        "    for c in range(0, column):\n",
        "      if (c==0):\n",
        "        cumulative_energy[r,c]=energy_map[r,c]+min(cumulative_energy[r-1,c],cumulative_energy[r-1,c+1])\n",
        "      elif (c==column-1):\n",
        "        cumulative_energy[r,c]=energy_map[r,c]+min(cumulative_energy[r-1,c-1],cumulative_energy[r-1,c])\n",
        "      else:\n",
        "        cumulative_energy[r,c]=energy_map[r,c]+min(cumulative_energy[r-1,c-1],cumulative_energy[r-1,c],cumulative_energy[r-1,c+1])\n",
        "  energy_maps=cumulative_energy\n",
        "  row, column = cumulative_energy.shape\n",
        "  seam=[]\n",
        "\n",
        "  currentpixel=np.argmin(energy_maps[-1,:])\n",
        "  for i in reversed(range(row)):\n",
        "    seam.append(currentpixel)\n",
        "    if currentpixel == 0:\n",
        "        nextpixel = np.argmin(energy_maps[i, currentpixel:currentpixel + 2])\n",
        "    elif currentpixel == column - 1:\n",
        "        nextpixel = np.argmin(energy_maps[i, currentpixel - 1:currentpixel]) + currentpixel - 1\n",
        "    else:\n",
        "        nextpixel = np.argmin(energy_maps[i, currentpixel - 1:currentpixel + 2]) + currentpixel - 1\n",
        "\n",
        "    currentpixel = nextpixel\n",
        "  #print(seam)\n",
        "  #x=0\n",
        "  #copies=test2.copy()\n",
        "  #for i in range(row-1,-1,-1):\n",
        "    #copies[i,seam[x]]=0\n",
        "    #x=x+1\n",
        "  #plt.imshow(copies)\n",
        "  #plt.show()\n",
        "  seam.reverse()\n",
        "  r, c, _ = test2.shape\n",
        "  newImg = np.zeros((r, c, 3))\n",
        "  for i, j in enumerate(seam):\n",
        "      newImg[i, 0:j, :] = test2[i, 0:j, :]\n",
        "      newImg[i, j:c-1, :] = test2[i, j+1:c, :]\n",
        "  test2=newImg[:, :-1, :].astype(np.uint8)\n",
        "  #print(test2.shape)\n",
        "  return test2\n"
      ],
      "metadata": {
        "id": "iqb11m9vSMv4"
      },
      "execution_count": null,
      "outputs": []
    },
    {
      "cell_type": "code",
      "source": [
        "print(listofarrays)\n",
        "newlistof = listofarrays[1:]\n",
        "\n",
        "data = {\n",
        "    'image':newlistof,\n",
        "    'classification': elements\n",
        "}\n",
        "pd.DataFrame(data)\n",
        "plt.imshow(listofarrays[1])\n",
        "plt.show()"
      ],
      "metadata": {
        "id": "Iu737ci2zcJP",
        "collapsed": true
      },
      "execution_count": null,
      "outputs": []
    }
  ]
}